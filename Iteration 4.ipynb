{
 "cells": [
  {
   "cell_type": "code",
   "execution_count": 1,
   "id": "edd287a2",
   "metadata": {},
   "outputs": [
    {
     "name": "stderr",
     "output_type": "stream",
     "text": [
      "WARNING: An illegal reflective access operation has occurred\n",
      "WARNING: Illegal reflective access by org.apache.spark.unsafe.Platform (file:/home/ubuntu/.local/lib/python3.10/site-packages/pyspark/jars/spark-unsafe_2.12-3.2.1.jar) to constructor java.nio.DirectByteBuffer(long,int)\n",
      "WARNING: Please consider reporting this to the maintainers of org.apache.spark.unsafe.Platform\n",
      "WARNING: Use --illegal-access=warn to enable warnings of further illegal reflective access operations\n",
      "WARNING: All illegal access operations will be denied in a future release\n",
      "Using Spark's default log4j profile: org/apache/spark/log4j-defaults.properties\n",
      "Setting default log level to \"WARN\".\n",
      "To adjust logging level use sc.setLogLevel(newLevel). For SparkR, use setLogLevel(newLevel).\n",
      "24/05/10 07:19:24 WARN NativeCodeLoader: Unable to load native-hadoop library for your platform... using builtin-java classes where applicable\n"
     ]
    }
   ],
   "source": [
    "from pyspark.sql import SparkSession\n",
    "\n",
    "spark = SparkSession.builder.appName('YourApp').getOrCreate()\n",
    "spark.sparkContext.setLogLevel(\"ERROR\")"
   ]
  },
  {
   "cell_type": "code",
   "execution_count": 2,
   "id": "194c05e9",
   "metadata": {},
   "outputs": [
    {
     "name": "stderr",
     "output_type": "stream",
     "text": [
      "                                                                                \r"
     ]
    },
    {
     "name": "stdout",
     "output_type": "stream",
     "text": [
      "+-----+------+\n",
      "|label| count|\n",
      "+-----+------+\n",
      "|    1| 15952|\n",
      "|    0|244912|\n",
      "+-----+------+\n",
      "\n"
     ]
    },
    {
     "name": "stderr",
     "output_type": "stream",
     "text": [
      "                                                                                \r"
     ]
    },
    {
     "data": {
      "image/png": "[encoded data removed]",
      "text/plain": [
       "<Figure size 864x432 with 2 Axes>"
      ]
     },
     "metadata": {
      "needs_background": "light"
     },
     "output_type": "display_data"
    }
   ],
   "source": [
    "import findspark\n",
    "findspark.init('/home/ubuntu/spark-3.2.1-bin-hadoop2.7')\n",
    "import matplotlib.pyplot as plt\n",
    "import seaborn as sns\n",
    "\n",
    "from pyspark.sql import SparkSession\n",
    "spark = SparkSession.builder.appName('Data Analysis').getOrCreate()\n",
    "\n",
    "user_info = spark.read.csv('user_info_format1.csv', header=True, inferSchema=True)\n",
    "user_log = spark.read.csv('user_log_format1.csv', header=True, inferSchema=True)\n",
    "test_data = spark.read.csv('test_format1.csv', header=True, inferSchema=True)\n",
    "train_data = spark.read.csv('train_format1.csv', header=True, inferSchema=True)\n",
    "\n",
    "from pyspark.sql import functions as F\n",
    "label_gp = train_data.groupby('label').count()\n",
    "label_gp.show()\n",
    "\n",
    "pd_train_data = train_data.toPandas()\n",
    "\n",
    "fig, axes = plt.subplots(1, 2, figsize=(12, 6))\n",
    "pd_train_data['label'].value_counts().plot(kind='pie', autopct='%1.1f%%', shadow=True, explode=[0, 0.1], ax=axes[0])\n",
    "sns.countplot(x='label', data=pd_train_data, ax=axes[1])\n",
    "plt.show()"
   ]
  },
  {
   "cell_type": "code",
   "execution_count": 3,
   "id": "5341ccef",
   "metadata": {},
   "outputs": [
    {
     "name": "stderr",
     "output_type": "stream",
     "text": [
      "[Stage 15:=============================>                            (1 + 1) / 2]\r"
     ]
    },
    {
     "name": "stdout",
     "output_type": "stream",
     "text": [
      "Missing 'age_range' ratio: 0.22427564419925974\n"
     ]
    },
    {
     "name": "stderr",
     "output_type": "stream",
     "text": [
      "                                                                                \r"
     ]
    },
    {
     "name": "stdout",
     "output_type": "stream",
     "text": [
      "Count of missing or zero 'age_range': 95131\n"
     ]
    },
    {
     "name": "stderr",
     "output_type": "stream",
     "text": [
      "                                                                                \r"
     ]
    }
   ],
   "source": [
    "from pyspark.sql.functions import col, when, count\n",
    "\n",
    "total_count = user_info.count()\n",
    "missing_age_count = user_info.filter((col('age_range').isNull()) | (col('age_range') == 0)).count()\n",
    "missing_age_ratio = missing_age_count / total_count\n",
    "print(\"Missing 'age_range' ratio:\", missing_age_ratio)\n",
    "\n",
    "missing_or_zero_age_count = user_info.filter((col('age_range').isNull()) | (col('age_range') == 0)).count()\n",
    "print(\"Count of missing or zero 'age_range':\", missing_or_zero_age_count)"
   ]
  },
  {
   "cell_type": "code",
   "execution_count": 4,
   "id": "faafff9a",
   "metadata": {},
   "outputs": [
    {
     "name": "stderr",
     "output_type": "stream",
     "text": [
      "                                                                                \r"
     ]
    },
    {
     "name": "stdout",
     "output_type": "stream",
     "text": [
      "Missing 'gender' ratio: 0.03975292925006483\n",
      "Count of missing or gender == 2: 16862\n"
     ]
    },
    {
     "name": "stderr",
     "output_type": "stream",
     "text": [
      "                                                                                \r"
     ]
    }
   ],
   "source": [
    "from pyspark.sql.functions import col, when, count\n",
    "\n",
    "total_count = user_info.count()\n",
    "missing_gender_count = user_info.filter((col('gender').isNull()) | (col('gender') == 2)).count()\n",
    "missing_gender_ratio = missing_gender_count / total_count\n",
    "print(\"Missing 'gender' ratio:\", missing_gender_ratio)\n",
    "\n",
    "missing_or_two_gender_count = user_info.filter((col('gender').isNull()) | (col('gender') == 2)).count()\n",
    "print(\"Count of missing or gender == 2:\", missing_or_two_gender_count)"
   ]
  },
  {
   "cell_type": "code",
   "execution_count": 5,
   "id": "362c83d6",
   "metadata": {},
   "outputs": [
    {
     "name": "stderr",
     "output_type": "stream",
     "text": [
      "[Stage 30:=============================>                            (1 + 1) / 2]\r"
     ]
    },
    {
     "name": "stdout",
     "output_type": "stream",
     "text": [
      "Count of remaining records: 317840\n"
     ]
    },
    {
     "name": "stderr",
     "output_type": "stream",
     "text": [
      "                                                                                \r"
     ]
    }
   ],
   "source": [
    "from pyspark.sql.functions import col\n",
    "\n",
    "filtered_user_info = user_info.filter(~((col('age_range').isNull()) | (col('age_range') == 0)))\n",
    "\n",
    "final_user_info = filtered_user_info.filter(~((col('gender').isNull()) | (col('gender') == 2)))\n",
    "\n",
    "final_count = final_user_info.count()\n",
    "print(\"Count of remaining records:\", final_count)"
   ]
  },
  {
   "cell_type": "code",
   "execution_count": 6,
   "id": "74d689d1",
   "metadata": {},
   "outputs": [
    {
     "name": "stderr",
     "output_type": "stream",
     "text": [
      "                                                                                \r"
     ]
    },
    {
     "name": "stdout",
     "output_type": "stream",
     "text": [
      "mu = 0.07 and sigma = 0.05\n"
     ]
    },
    {
     "data": {
      "image/png": "[encoded data removed]",
      "text/plain": [
       "<Figure size 1152x288 with 2 Axes>"
      ]
     },
     "metadata": {
      "needs_background": "light"
     },
     "output_type": "display_data"
    }
   ],
   "source": [
    "from pyspark.sql import SparkSession\n",
    "from pyspark.sql.functions import col, mean\n",
    "import matplotlib.pyplot as plt\n",
    "import seaborn as sns\n",
    "import numpy as np\n",
    "from scipy import stats\n",
    "\n",
    "spark = SparkSession.builder.appName('Data Analysis').getOrCreate()\n",
    "\n",
    "merchant_repeat_buy_df = train_data.groupBy(\"merchant_id\").agg(mean(col(\"label\")).alias(\"repeat_buy_rate\"))\n",
    "\n",
    "merchant_repeat_buy = merchant_repeat_buy_df.filter((col(\"repeat_buy_rate\") > 0) & (col(\"repeat_buy_rate\") <= 1)).toPandas()[\"repeat_buy_rate\"]\n",
    "plt.figure(figsize=(16, 4))\n",
    "ax = plt.subplot(1, 2, 1)\n",
    "\n",
    "sns.histplot(merchant_repeat_buy, kde=True, stat=\"density\", linewidth=0)\n",
    "\n",
    "(mu, sigma) = stats.norm.fit(merchant_repeat_buy)\n",
    "print('mu = {:.2f} and sigma = {:.2f}'.format(mu, sigma))\n",
    "\n",
    "xmin, xmax = plt.xlim()\n",
    "x = np.linspace(xmin, xmax, 100)\n",
    "p = stats.norm.pdf(x, mu, sigma)\n",
    "ax.plot(x, p, 'k', linewidth=2)\n",
    "title = \"Fit Results: mu = %.2f,  sigma = %.2f\" % (mu, sigma)\n",
    "ax.set_title(title)\n",
    "\n",
    "ax = plt.subplot(1, 2, 2)\n",
    "res = stats.probplot(merchant_repeat_buy, plot=plt)\n",
    "plt.show()"
   ]
  },
  {
   "cell_type": "code",
   "execution_count": 7,
   "id": "bec07a05",
   "metadata": {},
   "outputs": [
    {
     "name": "stderr",
     "output_type": "stream",
     "text": [
      "                                                                                \r"
     ]
    },
    {
     "name": "stdout",
     "output_type": "stream",
     "text": [
      "Training set size: 339301 rows\n"
     ]
    },
    {
     "name": "stderr",
     "output_type": "stream",
     "text": [
      "[Stage 39:=============================>                            (1 + 1) / 2]\r"
     ]
    },
    {
     "name": "stdout",
     "output_type": "stream",
     "text": [
      "Test set size: 84869 rows\n"
     ]
    },
    {
     "name": "stderr",
     "output_type": "stream",
     "text": [
      "                                                                                \r"
     ]
    }
   ],
   "source": [
    "from pyspark.sql import SparkSession\n",
    "\n",
    "spark = SparkSession.builder.appName('Data Split').getOrCreate()\n",
    "\n",
    "splits = user_info.randomSplit([0.8, 0.2], seed=42) \n",
    "train_set = splits[0]\n",
    "test_set = splits[1]\n",
    "\n",
    "print(f\"Training set size: {train_set.count()} rows\")\n",
    "print(f\"Test set size: {test_set.count()} rows\")"
   ]
  },
  {
   "cell_type": "code",
   "execution_count": 8,
   "id": "9f452e27",
   "metadata": {},
   "outputs": [
    {
     "name": "stderr",
     "output_type": "stream",
     "text": [
      "                                                                                \r"
     ]
    },
    {
     "name": "stdout",
     "output_type": "stream",
     "text": [
      "+-------+-----------+-----+---------+------+\n",
      "|user_id|merchant_id|label|age_range|gender|\n",
      "+-------+-----------+-----+---------+------+\n",
      "|  34176|       3906|    0|        6|     0|\n",
      "|  34176|        121|    0|        6|     0|\n",
      "|  34176|       4356|    1|        6|     0|\n",
      "|  34176|       2217|    0|        6|     0|\n",
      "| 230784|       4818|    0|        0|     0|\n",
      "| 362112|       2618|    0|        4|     1|\n",
      "|  34944|       2051|    0|        5|     0|\n",
      "| 231552|       3828|    1|        5|     0|\n",
      "| 231552|       2124|    0|        5|     0|\n",
      "| 232320|       1168|    0|        4|     1|\n",
      "| 232320|       4270|    0|        4|     1|\n",
      "| 167040|        671|    0|        5|     0|\n",
      "| 101760|       1760|    0|        0|     0|\n",
      "| 298368|       2981|    0|        4|     0|\n",
      "|  36480|       4730|    0|        6|     1|\n",
      "| 299136|       2935|    0|        0|     0|\n",
      "|  37248|       2615|    0|        3|     1|\n",
      "| 103296|       2482|    0|        6|     0|\n",
      "| 299904|       1742|    0|        6|     1|\n",
      "|  38016|       1028|    0|        3|     0|\n",
      "+-------+-----------+-----+---------+------+\n",
      "only showing top 20 rows\n",
      "\n"
     ]
    }
   ],
   "source": [
    "from pyspark.sql import SparkSession\n",
    "\n",
    "spark = SparkSession.builder \\\n",
    "    .appName(\"Data Merge\") \\\n",
    "    .getOrCreate()\n",
    "\n",
    "train_data = spark.read.csv('train_format1.csv', header=True, inferSchema=True)\n",
    "user_info = spark.read.csv('user_info_format1.csv', header=True, inferSchema=True)\n",
    "\n",
    "merged_data = train_data.join(user_info, on='user_id', how='left')\n",
    "\n",
    "merged_data.show()"
   ]
  },
  {
   "cell_type": "code",
   "execution_count": 9,
   "id": "de63375a",
   "metadata": {},
   "outputs": [
    {
     "name": "stderr",
     "output_type": "stream",
     "text": [
      "                                                                                \r"
     ]
    },
    {
     "data": {
      "image/png": "[encoded data removed]",
      "text/plain": [
       "<Figure size 432x288 with 1 Axes>"
      ]
     },
     "metadata": {
      "needs_background": "light"
     },
     "output_type": "display_data"
    },
    {
     "name": "stderr",
     "output_type": "stream",
     "text": [
      "                                                                                \r"
     ]
    },
    {
     "data": {
      "image/png": "[encoded data removed]",
      "text/plain": [
       "<Figure size 576x288 with 1 Axes>"
      ]
     },
     "metadata": {
      "needs_background": "light"
     },
     "output_type": "display_data"
    },
    {
     "name": "stderr",
     "output_type": "stream",
     "text": [
      "                                                                                \r"
     ]
    },
    {
     "data": {
      "image/png": "[encoded data removed]",
      "text/plain": [
       "<Figure size 432x288 with 1 Axes>"
      ]
     },
     "metadata": {
      "needs_background": "light"
     },
     "output_type": "display_data"
    }
   ],
   "source": [
    "import matplotlib.pyplot as plt\n",
    "import seaborn as sns\n",
    "from pyspark.sql import SparkSession\n",
    "\n",
    "spark = SparkSession.builder \\\n",
    "    .appName(\"Data Analysis\") \\\n",
    "    .getOrCreate()\n",
    "\n",
    "\n",
    "label_counts = merged_data.groupBy('label').count().collect()\n",
    "\n",
    "plt.figure(figsize=(6, 4))\n",
    "sns.barplot(x=[row['label'] for row in label_counts], y=[row['count'] for row in label_counts])\n",
    "plt.title('Label Distribution')\n",
    "plt.xlabel('Label')\n",
    "plt.ylabel('Count')\n",
    "plt.show()\n",
    "\n",
    "age_range_counts = merged_data.groupBy('age_range').count().collect()\n",
    "\n",
    "plt.figure(figsize=(8, 4))\n",
    "sns.barplot(x=[row['age_range'] for row in age_range_counts], y=[row['count'] for row in age_range_counts])\n",
    "plt.title('Age Range Distribution')\n",
    "plt.xlabel('Age Range')\n",
    "plt.ylabel('Count')\n",
    "plt.show()\n",
    "\n",
    "gender_counts = merged_data.groupBy('gender').count().collect()\n",
    "\n",
    "plt.figure(figsize=(6, 4))\n",
    "sns.barplot(x=[row['gender'] for row in gender_counts], y=[row['count'] for row in gender_counts])\n",
    "plt.title('Gender Distribution')\n",
    "plt.xlabel('Gender')\n",
    "plt.ylabel('Count')\n",
    "plt.show()"
   ]
  },
  {
   "cell_type": "code",
   "execution_count": 10,
   "id": "e951c3ea",
   "metadata": {},
   "outputs": [],
   "source": [
    "from pyspark.sql.functions import when\n",
    "\n",
    "user_log = user_log.withColumn('action_type', \n",
    "                               when((user_log['action_type'] == 2) | (user_log['action_type'] == 3), 1)\n",
    "                               .otherwise(user_log['action_type']))"
   ]
  },
  {
   "cell_type": "code",
   "execution_count": 11,
   "id": "b1c44f77",
   "metadata": {},
   "outputs": [
    {
     "name": "stderr",
     "output_type": "stream",
     "text": [
      "                                                                                \r"
     ]
    },
    {
     "data": {
      "image/png": "[encoded data removed]",
      "text/plain": [
       "<Figure size 720x360 with 1 Axes>"
      ]
     },
     "metadata": {
      "needs_background": "light"
     },
     "output_type": "display_data"
    }
   ],
   "source": [
    "from pyspark.sql import SparkSession\n",
    "import matplotlib.pyplot as plt\n",
    "import seaborn as sns\n",
    "\n",
    "# Filter out invalid age ranges\n",
    "user_info = user_info.filter((user_info['age_range'] != 0) & (user_info['age_range'].isNotNull()))\n",
    "\n",
    "# To use Matplotlib and Seaborn, collect the data to the driver\n",
    "age_pdf = user_info.select('age_range').toPandas()\n",
    "\n",
    "plt.figure(figsize=(10, 5))\n",
    "age_counts = age_pdf['age_range'].value_counts().sort_index()\n",
    "sns.barplot(x=age_counts.index, y=age_counts.values, color='skyblue')\n",
    "sns.kdeplot(age_pdf['age_range'], color='red', bw_adjust=0.5, cut=0, linewidth=2)\n",
    "plt.title('Distribution of Age Ranges with Density Curve')\n",
    "plt.xlabel('Age Range')\n",
    "plt.ylabel('Count')\n",
    "plt.show()"
   ]
  },
  {
   "cell_type": "code",
   "execution_count": 12,
   "id": "7d651482",
   "metadata": {},
   "outputs": [
    {
     "name": "stderr",
     "output_type": "stream",
     "text": [
      "[Stage 66:>                                                         (0 + 1) / 1]\r"
     ]
    },
    {
     "name": "stdout",
     "output_type": "stream",
     "text": [
      "Test set accuracy = 0.9384920634920635\n"
     ]
    },
    {
     "name": "stderr",
     "output_type": "stream",
     "text": [
      "                                                                                \r"
     ]
    }
   ],
   "source": [
    "from pyspark.ml.feature import VectorAssembler, StandardScaler\n",
    "from pyspark.ml.classification import LogisticRegression\n",
    "from pyspark.ml.evaluation import MulticlassClassificationEvaluator\n",
    "\n",
    "feature_cols = [col for col in train_data.columns if col != 'label']\n",
    "\n",
    "assembler = VectorAssembler(inputCols=feature_cols, outputCol=\"features\")\n",
    "train_data = assembler.transform(train_data)\n",
    "\n",
    "scaler = StandardScaler(inputCol=\"features\", outputCol=\"scaledFeatures\", withStd=True, withMean=True)\n",
    "scaledModel = scaler.fit(train_data)\n",
    "train_data_scaled = scaledModel.transform(train_data)\n",
    "\n",
    "train, test = train_data_scaled.randomSplit([0.7, 0.3], seed=0)\n",
    "\n",
    "lr = LogisticRegression(featuresCol=\"scaledFeatures\", labelCol=\"label\", maxIter=10, regParam=0.3, elasticNetParam=0.8)\n",
    "\n",
    "lrModel = lr.fit(train)\n",
    "\n",
    "predictions = lrModel.transform(test)\n",
    "\n",
    "evaluator = MulticlassClassificationEvaluator(labelCol=\"label\", predictionCol=\"prediction\", metricName=\"accuracy\")\n",
    "accuracy = evaluator.evaluate(predictions)\n",
    "print(\"Test set accuracy = \" + str(accuracy))"
   ]
  },
  {
   "cell_type": "code",
   "execution_count": 18,
   "id": "5ced4cc7",
   "metadata": {},
   "outputs": [
    {
     "name": "stdout",
     "output_type": "stream",
     "text": [
      "Test set accuracy: 0.9330845771144278\n"
     ]
    }
   ],
   "source": [
    "from pyspark.sql import SparkSession\n",
    "from pyspark.ml.feature import VectorAssembler, StandardScaler\n",
    "from pyspark.ml.classification import DecisionTreeClassifier\n",
    "from pyspark.ml.evaluation import MulticlassClassificationEvaluator\n",
    "\n",
    "spark = SparkSession.builder.appName(\"DecisionTreeTesting\").getOrCreate()\n",
    "\n",
    "data_path = 'train_format1.csv'\n",
    "df = spark.read.csv(data_path, header=True, inferSchema=True)\n",
    "sampled_df = df.sample(False, fraction=1.0, seed=0).limit(10000)\n",
    "\n",
    "feature_columns = [col for col in sampled_df.columns if col != 'label']\n",
    "\n",
    "assembler = VectorAssembler(inputCols=feature_columns, outputCol=\"features\")\n",
    "sampled_df = assembler.transform(sampled_df)\n",
    "\n",
    "scaler = StandardScaler(inputCol=\"features\", outputCol=\"scaledFeatures\")\n",
    "sampled_df = scaler.fit(sampled_df).transform(sampled_df)\n",
    "\n",
    "train, test = sampled_df.randomSplit([0.6, 0.4], seed=0)\n",
    "\n",
    "predictions = dtModel.transform(test)\n",
    "\n",
    "evaluator = MulticlassClassificationEvaluator(labelCol=\"label\", predictionCol=\"prediction\", metricName=\"accuracy\")\n",
    "accuracy = evaluator.evaluate(predictions)\n",
    "print(\"Test set accuracy:\", accuracy)\n"
   ]
  }
 ],
 "metadata": {
  "kernelspec": {
   "display_name": "Python 3 (ipykernel)",
   "language": "python",
   "name": "python3"
  },
  "language_info": {
   "codemirror_mode": {
    "name": "ipython",
    "version": 3
   },
   "file_extension": ".py",
   "mimetype": "text/x-python",
   "name": "python",
   "nbconvert_exporter": "python",
   "pygments_lexer": "ipython3",
   "version": "3.10.4"
  }
 },
 "nbformat": 4,
 "nbformat_minor": 5
}
